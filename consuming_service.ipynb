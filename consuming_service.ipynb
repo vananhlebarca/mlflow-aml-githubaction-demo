{
 "cells": [
  {
   "cell_type": "code",
   "execution_count": 13,
   "source": [
    "# Create a sample data \r\n",
    "from sklearn import datasets\r\n",
    "import pandas as pd\r\n",
    "import numpy as np\r\n",
    "import requests\r\n",
    "import json\r\n",
    "\r\n",
    "iris = datasets.load_iris()\r\n",
    "X = iris.data\r\n",
    "y = iris.target\r\n",
    "Y = np.array([y]).transpose()\r\n",
    "d = np.concatenate((X, Y), axis=1)\r\n",
    "cols = ['sepal length (cm)', 'sepal width (cm)', 'petal length (cm)', 'petal width (cm)', 'target']\r\n",
    "data = pd.DataFrame(d, columns=cols)\r\n",
    "sample = data.drop(['target'], axis=1).iloc[[50]]\r\n",
    "                                                 \r\n",
    "query_input = sample.to_json(orient='split')\r\n",
    "query_input = eval(query_input)\r\n",
    "query_input.pop('index', None)\r\n",
    "\r\n"
   ],
   "outputs": [
    {
     "output_type": "execute_result",
     "data": {
      "text/plain": [
       "[50]"
      ]
     },
     "metadata": {},
     "execution_count": 13
    }
   ],
   "metadata": {}
  },
  {
   "cell_type": "code",
   "execution_count": 14,
   "source": [
    "# sending an HTTP request\r\n",
    "def query_endpoint_example(scoring_uri, inputs, service_key=None):\r\n",
    "  headers = {\r\n",
    "    \"Content-Type\": \"application/json\",\r\n",
    "  }\r\n",
    "  if service_key is not None:\r\n",
    "    headers[\"Authorization\"] = \"Bearer {service_key}\".format(service_key=service_key)\r\n",
    "    \r\n",
    "  print(\"Sending batch prediction request with inputs: {}\".format(inputs))\r\n",
    "  response = requests.post(scoring_uri, data=json.dumps(inputs), headers=headers)\r\n",
    "  preds = json.loads(response.text)\r\n",
    "  print(\"Received response: {}\".format(preds))\r\n",
    "  return preds"
   ],
   "outputs": [],
   "metadata": {}
  },
  {
   "cell_type": "code",
   "execution_count": 15,
   "source": [
    "scoring_uri = 'http://aaaaaaaaaaaaaaaaaaaaaaaaaaa/score'\r\n",
    "dev_prediction = query_endpoint_example(scoring_uri=scoring_uri, inputs=query_input)"
   ],
   "outputs": [
    {
     "output_type": "stream",
     "name": "stdout",
     "text": [
      "Sending batch prediction request with inputs: {'columns': ['sepal length (cm)', 'sepal width (cm)', 'petal length (cm)', 'petal width (cm)'], 'data': [[7.0, 3.2, 4.7, 1.4]]}\n",
      "Received response: [1]\n"
     ]
    }
   ],
   "metadata": {}
  },
  {
   "cell_type": "code",
   "execution_count": null,
   "source": [],
   "outputs": [],
   "metadata": {}
  }
 ],
 "metadata": {
  "orig_nbformat": 4,
  "language_info": {
   "name": "python"
  }
 },
 "nbformat": 4,
 "nbformat_minor": 2
}